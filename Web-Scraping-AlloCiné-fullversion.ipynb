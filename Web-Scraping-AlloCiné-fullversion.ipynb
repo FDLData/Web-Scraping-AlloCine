{
 "cells": [
  {
   "cell_type": "code",
   "execution_count": 1,
   "id": "2ad545fd",
   "metadata": {},
   "outputs": [],
   "source": [
    "import requests\n",
    "from bs4 import BeautifulSoup\n",
    "\n",
    "import numpy as np\n",
    "import pandas as pd\n",
    "\n",
    "import re "
   ]
  },
  {
   "cell_type": "markdown",
   "id": "d4093652",
   "metadata": {},
   "source": [
    "# Tous les films sur la page AlloCiné"
   ]
  },
  {
   "cell_type": "markdown",
   "id": "b80923f5",
   "metadata": {},
   "source": [
    "**Aucune information dans cette partie**, il faut juste *exécuter les cellules*\n",
    "\n",
    "> Si par curiosité tu veux avoir un *fichier Excel avec tous les films à l'affiche en ce moment*, tu peux enlever le hastag de la cellule de la partie 1.1 et exécuter la cellule"
   ]
  },
  {
   "cell_type": "code",
   "execution_count": 2,
   "id": "6b3cff1b",
   "metadata": {},
   "outputs": [],
   "source": [
    "# Extraire le nombre de page à scraper\n",
    "\n",
    "url = f\"https://www.allocine.fr/film/aucinema/\"\n",
    "response = requests.get(url)\n",
    "soup = BeautifulSoup(response.content, \"html.parser\")\n",
    "\n",
    "all_pages = soup.find_all('div', class_=\"pagination-item-holder\")[0]\n",
    "nombre_pages = int(str(all_pages)[-12:][:2])"
   ]
  },
  {
   "cell_type": "code",
   "execution_count": 3,
   "id": "ff17e0b9",
   "metadata": {},
   "outputs": [
    {
     "data": {
      "text/html": [
       "<div>\n",
       "<style scoped>\n",
       "    .dataframe tbody tr th:only-of-type {\n",
       "        vertical-align: middle;\n",
       "    }\n",
       "\n",
       "    .dataframe tbody tr th {\n",
       "        vertical-align: top;\n",
       "    }\n",
       "\n",
       "    .dataframe thead th {\n",
       "        text-align: right;\n",
       "    }\n",
       "</style>\n",
       "<table border=\"1\" class=\"dataframe\">\n",
       "  <thead>\n",
       "    <tr style=\"text-align: right;\">\n",
       "      <th></th>\n",
       "      <th>Title</th>\n",
       "      <th>Code</th>\n",
       "    </tr>\n",
       "  </thead>\n",
       "  <tbody>\n",
       "    <tr>\n",
       "      <th>0</th>\n",
       "      <td>Les trois mousquetaires: d'artagnan</td>\n",
       "      <td>288402</td>\n",
       "    </tr>\n",
       "    <tr>\n",
       "      <th>1</th>\n",
       "      <td>Super mario bros, le film</td>\n",
       "      <td>234099</td>\n",
       "    </tr>\n",
       "    <tr>\n",
       "      <th>2</th>\n",
       "      <td>La vie pour de vrai</td>\n",
       "      <td>297442</td>\n",
       "    </tr>\n",
       "    <tr>\n",
       "      <th>3</th>\n",
       "      <td>10 jours encore sans maman</td>\n",
       "      <td>298509</td>\n",
       "    </tr>\n",
       "    <tr>\n",
       "      <th>4</th>\n",
       "      <td>Donjons &amp;amp; dragons : l'honneur des voleurs</td>\n",
       "      <td>221359</td>\n",
       "    </tr>\n",
       "  </tbody>\n",
       "</table>\n",
       "</div>"
      ],
      "text/plain": [
       "                                           Title    Code\n",
       "0            Les trois mousquetaires: d'artagnan  288402\n",
       "1                      Super mario bros, le film  234099\n",
       "2                            La vie pour de vrai  297442\n",
       "3                     10 jours encore sans maman  298509\n",
       "4  Donjons &amp; dragons : l'honneur des voleurs  221359"
      ]
     },
     "execution_count": 3,
     "metadata": {},
     "output_type": "execute_result"
    }
   ],
   "source": [
    "# Scraper tous les films à l'affiche sur AlloCiné\n",
    "\n",
    "movies_dict = { 'Title': [], 'Code': []}\n",
    "\n",
    "for i in range(1, nombre_pages+1):\n",
    "    url = f\"https://www.allocine.fr/film/aucinema/?page={i}\"\n",
    "    response = requests.get(url)\n",
    "    soup = BeautifulSoup(response.content, \"html.parser\")\n",
    "    \n",
    "    all_movies_i = soup.find_all('div', class_=\"card entity-card entity-card-list cf\")\n",
    "    \n",
    "    for movie in all_movies_i:\n",
    "        movie_info = movie.find('h2').find('a')\n",
    "        movie_class = str(movie_info.attrs['class'][0])\n",
    "        movie_href = str(movie_info.attrs['href']) \n",
    "        movie_title = str(movie_info).replace(movie_href,\"\").replace(movie_class,\"\").replace('class=',\"\").replace('href=',\"\")\n",
    "        movie_title = re.sub(\"\\\"|\\>|\\<|\\/\",\"\",movie_title)[1:-1].strip()\n",
    "        movie_code = re.findall('\\d', movie_href) \n",
    "        movie_code = int(\"\".join(movie_code))\n",
    "        movies_dict[\"Title\"].append(movie_title)\n",
    "        movies_dict[\"Code\"].append(movie_code)   \n",
    "        \n",
    "films_allociné = pd.DataFrame(movies_dict)\n",
    "films_allociné['Title'] = films_allociné['Title'].apply(lambda x: x.capitalize())\n",
    "films_allociné.head()"
   ]
  },
  {
   "cell_type": "markdown",
   "id": "8db79632",
   "metadata": {},
   "source": [
    "## Exporter tous les films à l'affiche"
   ]
  },
  {
   "cell_type": "markdown",
   "id": "9015fc2e",
   "metadata": {},
   "source": [
    "> **La cellule en-dessous permet d'exporter tous les films à l'affiche au cinéma en ce moment**"
   ]
  },
  {
   "cell_type": "code",
   "execution_count": 4,
   "id": "e5eebdef",
   "metadata": {},
   "outputs": [],
   "source": [
    "# Enlever le hastag et exécuter la cellule si besoin\n",
    "\n",
    "#films_allociné.to_excel(\"Films à l'affiche.xlsx\") "
   ]
  },
  {
   "cell_type": "markdown",
   "id": "59d91024",
   "metadata": {},
   "source": [
    "# Films de la Liste à l'affiche "
   ]
  },
  {
   "cell_type": "code",
   "execution_count": 5,
   "id": "39ba1e6d",
   "metadata": {},
   "outputs": [
    {
     "data": {
      "text/html": [
       "<div>\n",
       "<style scoped>\n",
       "    .dataframe tbody tr th:only-of-type {\n",
       "        vertical-align: middle;\n",
       "    }\n",
       "\n",
       "    .dataframe tbody tr th {\n",
       "        vertical-align: top;\n",
       "    }\n",
       "\n",
       "    .dataframe thead th {\n",
       "        text-align: right;\n",
       "    }\n",
       "</style>\n",
       "<table border=\"1\" class=\"dataframe\">\n",
       "  <thead>\n",
       "    <tr style=\"text-align: right;\">\n",
       "      <th></th>\n",
       "      <th>Title</th>\n",
       "    </tr>\n",
       "  </thead>\n",
       "  <tbody>\n",
       "    <tr>\n",
       "      <th>0</th>\n",
       "      <td>101 reykjavik</td>\n",
       "    </tr>\n",
       "    <tr>\n",
       "      <th>1</th>\n",
       "      <td>21 grammes</td>\n",
       "    </tr>\n",
       "    <tr>\n",
       "      <th>2</th>\n",
       "      <td>37/2 le matin</td>\n",
       "    </tr>\n",
       "    <tr>\n",
       "      <th>3</th>\n",
       "      <td>99 francs</td>\n",
       "    </tr>\n",
       "    <tr>\n",
       "      <th>4</th>\n",
       "      <td>A history of violence</td>\n",
       "    </tr>\n",
       "    <tr>\n",
       "      <th>...</th>\n",
       "      <td>...</td>\n",
       "    </tr>\n",
       "    <tr>\n",
       "      <th>300</th>\n",
       "      <td>Les gardiens de la galaxie</td>\n",
       "    </tr>\n",
       "    <tr>\n",
       "      <th>301</th>\n",
       "      <td>Avengers</td>\n",
       "    </tr>\n",
       "    <tr>\n",
       "      <th>302</th>\n",
       "      <td>Yves saint laurent</td>\n",
       "    </tr>\n",
       "    <tr>\n",
       "      <th>303</th>\n",
       "      <td>Zero dark thirty</td>\n",
       "    </tr>\n",
       "    <tr>\n",
       "      <th>304</th>\n",
       "      <td>Zodiac</td>\n",
       "    </tr>\n",
       "  </tbody>\n",
       "</table>\n",
       "<p>305 rows × 1 columns</p>\n",
       "</div>"
      ],
      "text/plain": [
       "                          Title\n",
       "0                 101 reykjavik\n",
       "1                    21 grammes\n",
       "2                 37/2 le matin\n",
       "3                    99 francs \n",
       "4        A history of violence \n",
       "..                          ...\n",
       "300  Les gardiens de la galaxie\n",
       "301                    Avengers\n",
       "302          Yves saint laurent\n",
       "303           Zero dark thirty \n",
       "304                     Zodiac \n",
       "\n",
       "[305 rows x 1 columns]"
      ]
     },
     "execution_count": 5,
     "metadata": {},
     "output_type": "execute_result"
    }
   ],
   "source": [
    "#Importer fichier films Adrien\n",
    "\n",
    "films_adrien = pd.read_excel('Liste-Films-Charlotte.xlsx')\n",
    "films_adrien.rename(columns={'Nom':'Title'}, inplace=True)\n",
    "films_adrien['Title'] = films_adrien['Title'].apply(lambda x: x.capitalize())\n",
    "films_adrien"
   ]
  },
  {
   "cell_type": "code",
   "execution_count": 6,
   "id": "7a6d83e1",
   "metadata": {},
   "outputs": [
    {
     "name": "stderr",
     "output_type": "stream",
     "text": [
      "/var/folders/yk/tz3m_phn5h10c9gz44v85x0r0000gn/T/ipykernel_26202/3626538239.py:6: SettingWithCopyWarning: \n",
      "A value is trying to be set on a copy of a slice from a DataFrame.\n",
      "Try using .loc[row_indexer,col_indexer] = value instead\n",
      "\n",
      "See the caveats in the documentation: https://pandas.pydata.org/pandas-docs/stable/user_guide/indexing.html#returning-a-view-versus-a-copy\n",
      "  films_en_commun['Code'] = films_en_commun['Code'].apply(lambda x: int(x))\n"
     ]
    }
   ],
   "source": [
    "# Films de la liste d'Adrien à l'affiche en ce moment dans un cinéma parisien\n",
    "\n",
    "films_merge = pd.merge(left=films_adrien, right=films_allociné, on='Title', how='left') # Ca suppose d'avoir exactement le même titre\n",
    "films_merge.fillna(0,inplace=True)\n",
    "films_en_commun = films_merge[films_merge['Code'] != 0]\n",
    "films_en_commun['Code'] = films_en_commun['Code'].apply(lambda x: int(x))"
   ]
  },
  {
   "cell_type": "markdown",
   "id": "8291b111",
   "metadata": {},
   "source": [
    "## Films de la liste à l'affiche au cinéma"
   ]
  },
  {
   "cell_type": "markdown",
   "id": "b4ffadd7",
   "metadata": {},
   "source": [
    "> **La cellule en-dessous t'affiche tous les films de ta liste qui sont à l'affiche au cinéma**"
   ]
  },
  {
   "cell_type": "code",
   "execution_count": 7,
   "id": "eded1439",
   "metadata": {},
   "outputs": [],
   "source": [
    "# -- FILMS DE LA LISTE QUI SONT EN CE MOMENT A L'AFFICHE DANS UN CINEMA PARISIEN\n",
    "\n",
    "if len(films_en_commun) == 0:\n",
    "    print(\"Aucun film de la liste à l'affiche en ce moment dans un cinéma parisien\")\n",
    "elif len(films_en_commun) > 0:\n",
    "    films_en_commun"
   ]
  },
  {
   "cell_type": "code",
   "execution_count": 13,
   "id": "1e8098a7",
   "metadata": {},
   "outputs": [
    {
     "data": {
      "text/html": [
       "<div>\n",
       "<style scoped>\n",
       "    .dataframe tbody tr th:only-of-type {\n",
       "        vertical-align: middle;\n",
       "    }\n",
       "\n",
       "    .dataframe tbody tr th {\n",
       "        vertical-align: top;\n",
       "    }\n",
       "\n",
       "    .dataframe thead th {\n",
       "        text-align: right;\n",
       "    }\n",
       "</style>\n",
       "<table border=\"1\" class=\"dataframe\">\n",
       "  <thead>\n",
       "    <tr style=\"text-align: right;\">\n",
       "      <th></th>\n",
       "      <th>Title</th>\n",
       "      <th>Code</th>\n",
       "    </tr>\n",
       "  </thead>\n",
       "  <tbody>\n",
       "    <tr>\n",
       "      <th>188</th>\n",
       "      <td>Decision to leave</td>\n",
       "      <td>287116</td>\n",
       "    </tr>\n",
       "  </tbody>\n",
       "</table>\n",
       "</div>"
      ],
      "text/plain": [
       "                 Title    Code\n",
       "188  Decision to leave  287116"
      ]
     },
     "execution_count": 13,
     "metadata": {},
     "output_type": "execute_result"
    }
   ],
   "source": [
    "films_en_commun"
   ]
  },
  {
   "cell_type": "markdown",
   "id": "cf2e4e44",
   "metadata": {},
   "source": [
    "# Informations sur les séances des films de ta liste"
   ]
  },
  {
   "cell_type": "code",
   "execution_count": 8,
   "id": "cb7a1b41",
   "metadata": {},
   "outputs": [],
   "source": [
    "# Requete pour chaque film en commun\n",
    "\n",
    "movies_code = list(films_en_commun['Code'].unique())\n",
    "\n",
    "toutes_les_séances = list()\n",
    "\n",
    "for code in movies_code:\n",
    "    \n",
    "    titre = films_allociné[films_allociné['Code'] == code].iloc[0,0]\n",
    "    \n",
    "    séances_film = {'Titre': titre, 'Cinéma': [], 'Adresse': [], 'Date&Version': [], 'Horaires': []}\n",
    "    \n",
    "    for d in range(0,7):\n",
    "        url = f\"https://www.allocine.fr/seance/film-{code}/pres-de-115767/d-{d}/\"\n",
    "        response = requests.get(url)\n",
    "        soup = BeautifulSoup(response.content, \"html.parser\")\n",
    "        séances = soup.find_all('div', class_=\"theater-card hred cf\")\n",
    "        \n",
    "        for séance in séances:\n",
    "            nom_cinéma = str(séance.find('h2').find('a')).replace(str(séance.find('h2').find('a').attrs['href']),\"\").replace('href', \"\")\n",
    "            nom_cinéma = re.sub(\"\\\"|\\>|\\<|\\/|\\=\",\"\",nom_cinéma)[1:-1].strip()\n",
    "            séances_film[\"Cinéma\"].append(nom_cinéma)\n",
    "\n",
    "            adresse_cinéma = str(séance.find('address')).replace('address',\"\").replace('class',\"\")\n",
    "            adresse_cinéma = re.sub(\"\\\"|\\>|\\<|\\/|\\=\",\"\",adresse_cinéma)[1:]\n",
    "            séances_film[\"Adresse\"].append(adresse_cinéma)\n",
    "            \n",
    "            info_séances = séance.find_all('div', class_=\"showtimes-version\")[0]\n",
    "\n",
    "            date_séance = str(info_séances.find_all('div', class_='text')).replace('class', \"\").replace('text',\"\").replace('div',\"\")\n",
    "            date_séance = re.sub(\"\\\"|\\>|\\<|\\/|\\=|\\n|\\-\",\"\",date_séance)[1:-1]\n",
    "            séances_film[\"Date&Version\"].append(date_séance)\n",
    "\n",
    "            horaire_séance = str(info_séances.find_all('span', class_='showtimes-hour-item-value'))#.replace('class', \"\").replace('showtimes-hour-item-value', \"\").replace('span', \"\")\n",
    "            #horaire_séance = re.sub(\"\\\"|\\>|\\<|\\/|\\=|\\n|\\-\",\"\",horaire_séance)[1:-1]\n",
    "            séances_film[\"Horaires\"].append(horaire_séance)\n",
    "\n",
    "    toutes_les_séances.append(séances_film)"
   ]
  },
  {
   "cell_type": "code",
   "execution_count": 14,
   "id": "d075790f",
   "metadata": {},
   "outputs": [
    {
     "data": {
      "text/plain": [
       "[{'Titre': 'Decision to leave',\n",
       "  'Cinéma': [],\n",
       "  'Adresse': [],\n",
       "  'Date&Version': [],\n",
       "  'Horaires': []}]"
      ]
     },
     "execution_count": 14,
     "metadata": {},
     "output_type": "execute_result"
    }
   ],
   "source": [
    "toutes_les_séances"
   ]
  },
  {
   "cell_type": "markdown",
   "id": "c58ad440",
   "metadata": {},
   "source": [
    "## Afficher les séances des films de la liste à l'affiche"
   ]
  },
  {
   "cell_type": "markdown",
   "id": "9ba6e5ad",
   "metadata": {},
   "source": [
    "> **La cellule en dessous affiche les informations sur les séances**"
   ]
  },
  {
   "cell_type": "code",
   "execution_count": 9,
   "id": "8a2d401b",
   "metadata": {},
   "outputs": [
    {
     "name": "stdout",
     "output_type": "stream",
     "text": [
      "Empty DataFrame\n",
      "Columns: [Titre, Cinéma, Adresse, Date&Version, Horaires]\n",
      "Index: []\n"
     ]
    }
   ],
   "source": [
    "# -- INFORMATIONS SUR LES FILMS DE TA LISTE QUI SONT AU CINEMA\n",
    "\n",
    "if len(toutes_les_séances) == 0:\n",
    "    print(\"Aucun film de la liste à l'affiche en ce moment dans un cinéma parisien\")\n",
    "elif len(toutes_les_séances) > 0:\n",
    "    for i in range(len(toutes_les_séances)):\n",
    "        print(pd.DataFrame(toutes_les_séances[i])) "
   ]
  },
  {
   "cell_type": "markdown",
   "id": "56a0aeb0",
   "metadata": {},
   "source": [
    "# Pour avoir les séances d'un autre film sur AlloCiné"
   ]
  },
  {
   "cell_type": "code",
   "execution_count": 10,
   "id": "1b44e8bb",
   "metadata": {},
   "outputs": [],
   "source": [
    "# Entrer le code du film recherché\n",
    "\n",
    "code = 295626 # Code pour \"Sur les chemins noirs\" - modifier le code selon le film souhaité"
   ]
  },
  {
   "cell_type": "code",
   "execution_count": 11,
   "id": "d57065f4",
   "metadata": {},
   "outputs": [],
   "source": [
    "# Exécuter la cellule\n",
    "\n",
    "titre = films_allociné[films_allociné['Code'] == code].iloc[0,0]\n",
    "séances_film = {'Ttire': titre, 'Cinéma': [], 'Adresse': [], 'Infos': []}\n",
    "\n",
    "for d in range(0,7):\n",
    "    \n",
    "    url = f\"https://www.allocine.fr/seance/film-{code}/pres-de-115767/d-{d}/\"\n",
    "    response = requests.get(url)\n",
    "    soup = BeautifulSoup(response.content, \"html.parser\")\n",
    "    séances = soup.find_all('div', class_=\"theater-card hred cf\")\n",
    "\n",
    "    for séance in séances:\n",
    "        nom_cinéma = séance.find('h2').find('a').string\n",
    "        séances_film[\"Cinéma\"].append(nom_cinéma)\n",
    "\n",
    "        adresse_cinéma = séance.find('address').string\n",
    "        séances_film[\"Adresse\"].append(adresse_cinéma)\n",
    "\n",
    "        info_séances = séance.find_all('div', class_=\"showtimes-version\")\n",
    "        \n",
    "        séances_infos = {'Date&Version': [], 'Horaires': []}\n",
    "        \n",
    "        for info in info_séances:\n",
    "            date_séance = str(info.find_all('div', class_='text')).replace('class', \"\").replace('text',\"\").replace('div',\"\")\n",
    "            date_séance = re.sub(\"\\\"|\\>|\\<|\\/|\\=|\\n|\\-\",\"\",date_séance)[1:-1]\n",
    "            séances_infos[\"Date&Version\"].append(date_séance)\n",
    "\n",
    "            horaire_séance = str(info.find_all('span', class_='showtimes-hour-item-value')).replace('class', \"\").replace('showtimes-hour-item-value', \"\").replace('span', \"\")\n",
    "            horaire_séance = re.sub(\"\\\"|\\>|\\<|\\/|\\=|\\n|\\-\",\"\",horaire_séance)[1:-1]\n",
    "            séances_infos[\"Horaires\"].append(horaire_séance)\n",
    "        \n",
    "        séances_film['Infos'].append(séances_infos)\n",
    "\n",
    "titre_séances = pd.DataFrame(séances_film)"
   ]
  },
  {
   "cell_type": "markdown",
   "id": "410ba13f",
   "metadata": {},
   "source": [
    "## Exporter toutes les séances du film recherché"
   ]
  },
  {
   "cell_type": "markdown",
   "id": "b798d6b5",
   "metadata": {},
   "source": [
    "> **La cellule en dessous permet d'exporter les informations sur les séances du film choisi**"
   ]
  },
  {
   "cell_type": "code",
   "execution_count": 12,
   "id": "870023e5",
   "metadata": {},
   "outputs": [],
   "source": [
    "# Enlever le hastag et exécuter la cellule si besoin\n",
    "\n",
    "#titre_séances.to_excel(f'Séances_{titre}.xlsx') "
   ]
  },
  {
   "cell_type": "code",
   "execution_count": null,
   "id": "4984452f",
   "metadata": {},
   "outputs": [],
   "source": []
  },
  {
   "cell_type": "code",
   "execution_count": null,
   "id": "2905a2c9",
   "metadata": {},
   "outputs": [],
   "source": []
  }
 ],
 "metadata": {
  "kernelspec": {
   "display_name": "Python 3 (ipykernel)",
   "language": "python",
   "name": "python3"
  },
  "language_info": {
   "codemirror_mode": {
    "name": "ipython",
    "version": 3
   },
   "file_extension": ".py",
   "mimetype": "text/x-python",
   "name": "python",
   "nbconvert_exporter": "python",
   "pygments_lexer": "ipython3",
   "version": "3.9.12"
  },
  "toc": {
   "base_numbering": 1,
   "nav_menu": {},
   "number_sections": true,
   "sideBar": true,
   "skip_h1_title": false,
   "title_cell": "Table of Contents",
   "title_sidebar": "Contents",
   "toc_cell": false,
   "toc_position": {},
   "toc_section_display": true,
   "toc_window_display": false
  }
 },
 "nbformat": 4,
 "nbformat_minor": 5
}
