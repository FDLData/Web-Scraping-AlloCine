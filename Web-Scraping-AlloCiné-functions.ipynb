{
 "cells": [
  {
   "cell_type": "code",
   "execution_count": 1,
   "id": "ddf9b51e",
   "metadata": {},
   "outputs": [],
   "source": [
    "##trouver commande pour restart kernel\n",
    "#%"
   ]
  },
  {
   "cell_type": "code",
   "execution_count": 2,
   "id": "bba120e8",
   "metadata": {},
   "outputs": [],
   "source": [
    "from scraping_lib import *"
   ]
  },
  {
   "cell_type": "code",
   "execution_count": 3,
   "id": "372d7ca8",
   "metadata": {},
   "outputs": [],
   "source": [
    "file_name = 'Liste-Films-Charlotte.xlsx'  "
   ]
  },
  {
   "cell_type": "markdown",
   "id": "4cc787e1",
   "metadata": {},
   "source": [
    "# Séances films en commun"
   ]
  },
  {
   "cell_type": "code",
   "execution_count": 4,
   "id": "dfb18df3",
   "metadata": {},
   "outputs": [],
   "source": [
    "films = importer_fichier_films(file_name)"
   ]
  },
  {
   "cell_type": "code",
   "execution_count": 5,
   "id": "de63758e",
   "metadata": {},
   "outputs": [
    {
     "name": "stderr",
     "output_type": "stream",
     "text": [
      "/Users/florencetersier/code/FDLData/my-own-projects/web-scraping-allocine/scraping_lib.py:66: SettingWithCopyWarning: \n",
      "A value is trying to be set on a copy of a slice from a DataFrame.\n",
      "Try using .loc[row_indexer,col_indexer] = value instead\n",
      "\n",
      "See the caveats in the documentation: https://pandas.pydata.org/pandas-docs/stable/user_guide/indexing.html#returning-a-view-versus-a-copy\n",
      "  films_en_commun.loc[:,'Code'] = films_en_commun.loc[:,'Code'].apply(lambda x: int(x))\n"
     ]
    },
    {
     "data": {
      "text/html": [
       "<div>\n",
       "<style scoped>\n",
       "    .dataframe tbody tr th:only-of-type {\n",
       "        vertical-align: middle;\n",
       "    }\n",
       "\n",
       "    .dataframe tbody tr th {\n",
       "        vertical-align: top;\n",
       "    }\n",
       "\n",
       "    .dataframe thead th {\n",
       "        text-align: right;\n",
       "    }\n",
       "</style>\n",
       "<table border=\"1\" class=\"dataframe\">\n",
       "  <thead>\n",
       "    <tr style=\"text-align: right;\">\n",
       "      <th></th>\n",
       "      <th>Title</th>\n",
       "      <th>Code</th>\n",
       "    </tr>\n",
       "  </thead>\n",
       "  <tbody>\n",
       "    <tr>\n",
       "      <th>37</th>\n",
       "      <td>Brazil</td>\n",
       "      <td>142</td>\n",
       "    </tr>\n",
       "  </tbody>\n",
       "</table>\n",
       "</div>"
      ],
      "text/plain": [
       "     Title  Code\n",
       "37  Brazil   142"
      ]
     },
     "metadata": {},
     "output_type": "display_data"
    }
   ],
   "source": [
    "films_en_commun = trouver_films_commun(films)"
   ]
  },
  {
   "cell_type": "code",
   "execution_count": 6,
   "id": "6528639f",
   "metadata": {},
   "outputs": [
    {
     "data": {
      "text/plain": [
       "[{'Titre': 'Brazil',\n",
       "  'Cinéma': [],\n",
       "  'Adresse': [],\n",
       "  'Date&Version': [],\n",
       "  'Horaires': []}]"
      ]
     },
     "execution_count": 6,
     "metadata": {},
     "output_type": "execute_result"
    }
   ],
   "source": [
    "toutes_les_séances = séances_films_en_commun(films_en_commun)\n",
    "toutes_les_séances"
   ]
  },
  {
   "cell_type": "markdown",
   "id": "e8316919",
   "metadata": {},
   "source": [
    "# Séance d'un autre film"
   ]
  },
  {
   "cell_type": "code",
   "execution_count": 7,
   "id": "5d14d20c",
   "metadata": {},
   "outputs": [
    {
     "data": {
      "text/html": [
       "<div>\n",
       "<style scoped>\n",
       "    .dataframe tbody tr th:only-of-type {\n",
       "        vertical-align: middle;\n",
       "    }\n",
       "\n",
       "    .dataframe tbody tr th {\n",
       "        vertical-align: top;\n",
       "    }\n",
       "\n",
       "    .dataframe thead th {\n",
       "        text-align: right;\n",
       "    }\n",
       "</style>\n",
       "<table border=\"1\" class=\"dataframe\">\n",
       "  <thead>\n",
       "    <tr style=\"text-align: right;\">\n",
       "      <th></th>\n",
       "      <th>Title</th>\n",
       "      <th>Code</th>\n",
       "    </tr>\n",
       "  </thead>\n",
       "  <tbody>\n",
       "    <tr>\n",
       "      <th>0</th>\n",
       "      <td>Super mario bros, le film</td>\n",
       "      <td>234099</td>\n",
       "    </tr>\n",
       "    <tr>\n",
       "      <th>1</th>\n",
       "      <td>Les trois mousquetaires: d'artagnan</td>\n",
       "      <td>288402</td>\n",
       "    </tr>\n",
       "    <tr>\n",
       "      <th>2</th>\n",
       "      <td>La vie pour de vrai</td>\n",
       "      <td>297442</td>\n",
       "    </tr>\n",
       "    <tr>\n",
       "      <th>3</th>\n",
       "      <td>Donjons &amp;amp; dragons : l'honneur des voleurs</td>\n",
       "      <td>221359</td>\n",
       "    </tr>\n",
       "    <tr>\n",
       "      <th>4</th>\n",
       "      <td>10 jours encore sans maman</td>\n",
       "      <td>298509</td>\n",
       "    </tr>\n",
       "    <tr>\n",
       "      <th>...</th>\n",
       "      <td>...</td>\n",
       "      <td>...</td>\n",
       "    </tr>\n",
       "    <tr>\n",
       "      <th>205</th>\n",
       "      <td>Interstellar</td>\n",
       "      <td>114782</td>\n",
       "    </tr>\n",
       "    <tr>\n",
       "      <th>206</th>\n",
       "      <td>Mad max: fury road</td>\n",
       "      <td>125054</td>\n",
       "    </tr>\n",
       "    <tr>\n",
       "      <th>207</th>\n",
       "      <td>Fritzi</td>\n",
       "      <td>264339</td>\n",
       "    </tr>\n",
       "    <tr>\n",
       "      <th>208</th>\n",
       "      <td>Bonjour le monde!</td>\n",
       "      <td>273733</td>\n",
       "    </tr>\n",
       "    <tr>\n",
       "      <th>209</th>\n",
       "      <td>Music</td>\n",
       "      <td>276069</td>\n",
       "    </tr>\n",
       "  </tbody>\n",
       "</table>\n",
       "<p>210 rows × 2 columns</p>\n",
       "</div>"
      ],
      "text/plain": [
       "                                             Title    Code\n",
       "0                        Super mario bros, le film  234099\n",
       "1              Les trois mousquetaires: d'artagnan  288402\n",
       "2                              La vie pour de vrai  297442\n",
       "3    Donjons &amp; dragons : l'honneur des voleurs  221359\n",
       "4                       10 jours encore sans maman  298509\n",
       "..                                             ...     ...\n",
       "205                                   Interstellar  114782\n",
       "206                             Mad max: fury road  125054\n",
       "207                                         Fritzi  264339\n",
       "208                              Bonjour le monde!  273733\n",
       "209                                          Music  276069\n",
       "\n",
       "[210 rows x 2 columns]"
      ]
     },
     "execution_count": 7,
     "metadata": {},
     "output_type": "execute_result"
    }
   ],
   "source": [
    "films_allociné = scraping_films_allociné()\n",
    "films_allociné"
   ]
  },
  {
   "cell_type": "code",
   "execution_count": 8,
   "id": "e2aa52e0",
   "metadata": {},
   "outputs": [
    {
     "data": {
      "text/html": [
       "<div>\n",
       "<style scoped>\n",
       "    .dataframe tbody tr th:only-of-type {\n",
       "        vertical-align: middle;\n",
       "    }\n",
       "\n",
       "    .dataframe tbody tr th {\n",
       "        vertical-align: top;\n",
       "    }\n",
       "\n",
       "    .dataframe thead th {\n",
       "        text-align: right;\n",
       "    }\n",
       "</style>\n",
       "<table border=\"1\" class=\"dataframe\">\n",
       "  <thead>\n",
       "    <tr style=\"text-align: right;\">\n",
       "      <th></th>\n",
       "      <th>Titre</th>\n",
       "      <th>Cinéma</th>\n",
       "      <th>Adresse</th>\n",
       "      <th>Infos</th>\n",
       "    </tr>\n",
       "  </thead>\n",
       "  <tbody>\n",
       "    <tr>\n",
       "      <th>0</th>\n",
       "      <td>Les trois mousquetaires: d'artagnan</td>\n",
       "      <td>UGC Ciné Cité Bercy</td>\n",
       "      <td>2, cour Saint-Emilion 75012 Paris</td>\n",
       "      <td>{'Date&amp;Version': [' 26 avril 2023 En VF'], 'Ho...</td>\n",
       "    </tr>\n",
       "    <tr>\n",
       "      <th>1</th>\n",
       "      <td>Les trois mousquetaires: d'artagnan</td>\n",
       "      <td>MK2 Nation</td>\n",
       "      <td>133, bd Diderot 75012 Paris</td>\n",
       "      <td>{'Date&amp;Version': [' 26 avril 2023 En VF'], 'Ho...</td>\n",
       "    </tr>\n",
       "    <tr>\n",
       "      <th>2</th>\n",
       "      <td>Les trois mousquetaires: d'artagnan</td>\n",
       "      <td>Pathé Quai d'Ivry - IMAX - 4DX</td>\n",
       "      <td>2, quai Marcel Boyer 94200 Ivry-sur-Seine</td>\n",
       "      <td>{'Date&amp;Version': [' 26 avril 2023 En VF'], 'Ho...</td>\n",
       "    </tr>\n",
       "    <tr>\n",
       "      <th>3</th>\n",
       "      <td>Les trois mousquetaires: d'artagnan</td>\n",
       "      <td>MK2 Bibliothèque</td>\n",
       "      <td>128-162 avenue de France 75013 Paris</td>\n",
       "      <td>{'Date&amp;Version': [' 26 avril 2023 En VF'], 'Ho...</td>\n",
       "    </tr>\n",
       "    <tr>\n",
       "      <th>4</th>\n",
       "      <td>Les trois mousquetaires: d'artagnan</td>\n",
       "      <td>UGC Lyon Bastille</td>\n",
       "      <td>12, rue de Lyon 75012 Paris 12e arrondissement</td>\n",
       "      <td>{'Date&amp;Version': [' 26 avril 2023 En VF'], 'Ho...</td>\n",
       "    </tr>\n",
       "    <tr>\n",
       "      <th>...</th>\n",
       "      <td>...</td>\n",
       "      <td>...</td>\n",
       "      <td>...</td>\n",
       "      <td>...</td>\n",
       "    </tr>\n",
       "    <tr>\n",
       "      <th>205</th>\n",
       "      <td>Les trois mousquetaires: d'artagnan</td>\n",
       "      <td>Pathé La Villette - IMAX - 4DX</td>\n",
       "      <td>30 avenue Corentin Cariou 75019 Paris</td>\n",
       "      <td>{'Date&amp;Version': [' 2 mai 2023 En VF'], 'Horai...</td>\n",
       "    </tr>\n",
       "    <tr>\n",
       "      <th>206</th>\n",
       "      <td>Les trois mousquetaires: d'artagnan</td>\n",
       "      <td>Cinémas du palais, Armand-Badéyan</td>\n",
       "      <td>40, allee Parmentier 94000 Créteil</td>\n",
       "      <td>{'Date&amp;Version': [' 2 mai 2023 En VF'], 'Horai...</td>\n",
       "    </tr>\n",
       "    <tr>\n",
       "      <th>207</th>\n",
       "      <td>Les trois mousquetaires: d'artagnan</td>\n",
       "      <td>Les Cinq Caumartin</td>\n",
       "      <td>101, rue Saint-Lazare 75009 Paris 9e arrondiss...</td>\n",
       "      <td>{'Date&amp;Version': [' 2 mai 2023 En VF'], 'Horai...</td>\n",
       "    </tr>\n",
       "    <tr>\n",
       "      <th>208</th>\n",
       "      <td>Les trois mousquetaires: d'artagnan</td>\n",
       "      <td>Royal Palace</td>\n",
       "      <td>165, grande rue Charles-de-Gaulle 94130 Nogent...</td>\n",
       "      <td>{'Date&amp;Version': [' 2 mai 2023 En VF'], 'Horai...</td>\n",
       "    </tr>\n",
       "    <tr>\n",
       "      <th>209</th>\n",
       "      <td>Les trois mousquetaires: d'artagnan</td>\n",
       "      <td>Ciné Montrouge</td>\n",
       "      <td>88, rue Racine 92120 Montrouge</td>\n",
       "      <td>{'Date&amp;Version': [' 2 mai 2023 En VF'], 'Horai...</td>\n",
       "    </tr>\n",
       "  </tbody>\n",
       "</table>\n",
       "<p>210 rows × 4 columns</p>\n",
       "</div>"
      ],
      "text/plain": [
       "                                   Titre                               Cinéma  \\\n",
       "0    Les trois mousquetaires: d'artagnan                 UGC Ciné Cité Bercy    \n",
       "1    Les trois mousquetaires: d'artagnan                          MK2 Nation    \n",
       "2    Les trois mousquetaires: d'artagnan      Pathé Quai d'Ivry - IMAX - 4DX    \n",
       "3    Les trois mousquetaires: d'artagnan                    MK2 Bibliothèque    \n",
       "4    Les trois mousquetaires: d'artagnan                   UGC Lyon Bastille    \n",
       "..                                   ...                                  ...   \n",
       "205  Les trois mousquetaires: d'artagnan      Pathé La Villette - IMAX - 4DX    \n",
       "206  Les trois mousquetaires: d'artagnan   Cinémas du palais, Armand-Badéyan    \n",
       "207  Les trois mousquetaires: d'artagnan                  Les Cinq Caumartin    \n",
       "208  Les trois mousquetaires: d'artagnan                        Royal Palace    \n",
       "209  Les trois mousquetaires: d'artagnan                      Ciné Montrouge    \n",
       "\n",
       "                                               Adresse  \\\n",
       "0                    2, cour Saint-Emilion 75012 Paris   \n",
       "1                          133, bd Diderot 75012 Paris   \n",
       "2            2, quai Marcel Boyer 94200 Ivry-sur-Seine   \n",
       "3                 128-162 avenue de France 75013 Paris   \n",
       "4       12, rue de Lyon 75012 Paris 12e arrondissement   \n",
       "..                                                 ...   \n",
       "205              30 avenue Corentin Cariou 75019 Paris   \n",
       "206                 40, allee Parmentier 94000 Créteil   \n",
       "207  101, rue Saint-Lazare 75009 Paris 9e arrondiss...   \n",
       "208  165, grande rue Charles-de-Gaulle 94130 Nogent...   \n",
       "209                     88, rue Racine 92120 Montrouge   \n",
       "\n",
       "                                                 Infos  \n",
       "0    {'Date&Version': [' 26 avril 2023 En VF'], 'Ho...  \n",
       "1    {'Date&Version': [' 26 avril 2023 En VF'], 'Ho...  \n",
       "2    {'Date&Version': [' 26 avril 2023 En VF'], 'Ho...  \n",
       "3    {'Date&Version': [' 26 avril 2023 En VF'], 'Ho...  \n",
       "4    {'Date&Version': [' 26 avril 2023 En VF'], 'Ho...  \n",
       "..                                                 ...  \n",
       "205  {'Date&Version': [' 2 mai 2023 En VF'], 'Horai...  \n",
       "206  {'Date&Version': [' 2 mai 2023 En VF'], 'Horai...  \n",
       "207  {'Date&Version': [' 2 mai 2023 En VF'], 'Horai...  \n",
       "208  {'Date&Version': [' 2 mai 2023 En VF'], 'Horai...  \n",
       "209  {'Date&Version': [' 2 mai 2023 En VF'], 'Horai...  \n",
       "\n",
       "[210 rows x 4 columns]"
      ]
     },
     "execution_count": 8,
     "metadata": {},
     "output_type": "execute_result"
    }
   ],
   "source": [
    "#exporter_films_allociné(films_allociné) # Pour obtenir le code du film souhaité\n",
    "code = 288402 # Modifier le code selon le film souhaité\n",
    "titre_séances = séances_film(code)\n",
    "#exporter_film(titre_séances) \n",
    "titre_séances"
   ]
  }
 ],
 "metadata": {
  "kernelspec": {
   "display_name": "Python 3 (ipykernel)",
   "language": "python",
   "name": "python3"
  },
  "language_info": {
   "codemirror_mode": {
    "name": "ipython",
    "version": 3
   },
   "file_extension": ".py",
   "mimetype": "text/x-python",
   "name": "python",
   "nbconvert_exporter": "python",
   "pygments_lexer": "ipython3",
   "version": "3.9.12"
  },
  "toc": {
   "base_numbering": 1,
   "nav_menu": {},
   "number_sections": true,
   "sideBar": true,
   "skip_h1_title": false,
   "title_cell": "Table of Contents",
   "title_sidebar": "Contents",
   "toc_cell": false,
   "toc_position": {},
   "toc_section_display": true,
   "toc_window_display": false
  }
 },
 "nbformat": 4,
 "nbformat_minor": 5
}
